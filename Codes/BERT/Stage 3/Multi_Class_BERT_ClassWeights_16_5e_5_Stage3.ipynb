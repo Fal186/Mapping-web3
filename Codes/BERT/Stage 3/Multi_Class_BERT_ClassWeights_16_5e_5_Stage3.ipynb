{
  "cells": [
    {
      "cell_type": "markdown",
      "metadata": {
        "id": "view-in-github"
      },
      "source": [
        "<a href=\"https://colab.research.google.com/github/yogasgm/prototype_finetuning_pytorch/blob/main/Prototype_Multiclass_Classification.ipynb\" target=\"_parent\"><img src=\"https://colab.research.google.com/assets/colab-badge.svg\" alt=\"Open In Colab\"/></a>"
      ]
    },
    {
      "cell_type": "code",
      "execution_count": null,
      "metadata": {
        "id": "0EirBYDGOMlO"
      },
      "outputs": [],
      "source": [
        "from google.colab import drive\n",
        "drive.mount('/content/gdrive')"
      ]
    },
    {
      "cell_type": "markdown",
      "metadata": {
        "id": "D8KnOWZw6NI2"
      },
      "source": [
        "# Importing libraries"
      ]
    },
    {
      "cell_type": "code",
      "execution_count": null,
      "metadata": {
        "id": "DRvKgWFiNX3e"
      },
      "outputs": [],
      "source": [
        "!pip install transformers\n",
        "\n",
        "import torch\n",
        "import torch.nn as nn\n",
        "import pandas as pd\n",
        "import numpy as np\n",
        "import random\n",
        "import shutil\n",
        "import sys\n",
        "from sklearn.model_selection import train_test_split"
      ]
    },
    {
      "cell_type": "markdown",
      "metadata": {
        "id": "bwrgGxyf6Vdx"
      },
      "source": [
        "# Setting seed for reproducibility"
      ]
    },
    {
      "cell_type": "code",
      "execution_count": null,
      "metadata": {
        "id": "d_lFnQAn_19W"
      },
      "outputs": [],
      "source": [
        "def set_seed(seed):\n",
        "    random.seed(seed)\n",
        "    np.random.seed(seed)\n",
        "    torch.manual_seed(seed)\n",
        "    torch.cuda.manual_seed_all(seed)\n",
        "    torch.backends.cudnn.deterministic = True\n",
        "    torch.backends.cudnn.benchmark = False"
      ]
    },
    {
      "cell_type": "code",
      "execution_count": null,
      "metadata": {
        "id": "04oLnrbGAyWv"
      },
      "outputs": [],
      "source": [
        "set_seed(43)"
      ]
    },
    {
      "cell_type": "markdown",
      "metadata": {
        "id": "hLw0U_AC6Yk7"
      },
      "source": [
        "# Downloading dataset"
      ]
    },
    {
      "cell_type": "code",
      "execution_count": null,
      "metadata": {
        "id": "fLC5qP28ACN9"
      },
      "outputs": [],
      "source": [
        "from requests import get as rget\n",
        "\n",
        "# Update URL to raw CSV file\n",
        "url = \"https://raw.githubusercontent.com/Fal186/Mapping-web3/refs/heads/main/dataset/web3_Stage3_communicative_intent.csv\"\n",
        "\n",
        "res = rget(url)\n",
        "with open('file.csv', 'wb+') as f:\n",
        "    f.write(res.content)\n",
        "\n",
        "train_df = pd.read_csv('file.csv')"
      ]
    },
    {
      "cell_type": "code",
      "execution_count": null,
      "metadata": {
        "id": "9jJ2uW5CNjz8"
      },
      "outputs": [],
      "source": [
        "train_df.info()"
      ]
    },
    {
      "cell_type": "code",
      "execution_count": null,
      "metadata": {
        "id": "kxzUuRJHOKuE"
      },
      "outputs": [],
      "source": [
        "possible_labels = train_df.Predicted_Label.unique()\n",
        "label_dict = {}\n",
        "for index, possible_label in enumerate(possible_labels):\n",
        "    label_dict[possible_label] = index\n",
        "label_dict"
      ]
    },
    {
      "cell_type": "code",
      "execution_count": null,
      "metadata": {
        "id": "wG--g5L8aU6z"
      },
      "outputs": [],
      "source": [
        "train_df['Predicted_Label'] = train_df.Predicted_Label.replace(label_dict)"
      ]
    },
    {
      "cell_type": "code",
      "execution_count": null,
      "metadata": {
        "id": "ReZJkvyCaeDE"
      },
      "outputs": [],
      "source": [
        "train_df.head()"
      ]
    },
    {
      "cell_type": "markdown",
      "metadata": {
        "id": "2hW73qJhhUQw"
      },
      "source": [
        "# Preparing the tokenizer"
      ]
    },
    {
      "cell_type": "code",
      "execution_count": null,
      "metadata": {
        "id": "_g3eG-kvOwf6"
      },
      "outputs": [],
      "source": [
        "#Set Max Lenght, maksimal 512 (BERT)\n",
        "MAX_LEN = 512"
      ]
    },
    {
      "cell_type": "code",
      "execution_count": null,
      "metadata": {
        "id": "PQdNH7haO30v"
      },
      "outputs": [],
      "source": [
        "from transformers import BertTokenizer, BertModel"
      ]
    },
    {
      "cell_type": "code",
      "execution_count": null,
      "metadata": {
        "id": "X8E6m1usO7Xa"
      },
      "outputs": [],
      "source": [
        "#download the tokenizer\n",
        "tokenizer = BertTokenizer.from_pretrained('bert-base-uncased')"
      ]
    },
    {
      "cell_type": "code",
      "execution_count": null,
      "metadata": {
        "id": "RrT5SmDGO_gj"
      },
      "outputs": [],
      "source": [
        "class CustomDataset(torch.utils.data.Dataset):\n",
        "    def __init__(self, df, tokenizer, max_len):\n",
        "        self.tokenizer = tokenizer\n",
        "        self.df = df\n",
        "        self.text = df['text']\n",
        "        self.targets = self.df['Predicted_Label']\n",
        "        self.max_len = max_len\n",
        "\n",
        "    def __len__(self):\n",
        "        return len(self.text)\n",
        "\n",
        "    def __getitem__(self, index):\n",
        "        text = str(self.text[index])\n",
        "        text = \" \".join(text.split())\n",
        "        inputs = self.tokenizer.encode_plus(\n",
        "            text,\n",
        "            None,\n",
        "            add_special_tokens=True,\n",
        "            max_length=self.max_len,\n",
        "            padding='max_length',\n",
        "            return_token_type_ids=True,\n",
        "            truncation=True,\n",
        "            return_attention_mask=True,\n",
        "            return_tensors='pt'\n",
        "        )\n",
        "\n",
        "        return {\n",
        "            'input_ids': inputs['input_ids'].flatten(),\n",
        "            'attention_mask': inputs['attention_mask'].flatten(),\n",
        "            'token_type_ids': inputs[\"token_type_ids\"].flatten(),\n",
        "            'targets': torch.tensor(self.targets[index], dtype=torch.long)\n",
        "        }"
      ]
    },
    {
      "cell_type": "markdown",
      "metadata": {
        "id": "M1lpLevsPJJt"
      },
      "source": [
        "# Splitting & Tokenizing Dataset"
      ]
    },
    {
      "cell_type": "code",
      "execution_count": null,
      "metadata": {
        "id": "n570wcrnYFFy"
      },
      "outputs": [],
      "source": [
        "# Checking for available device\n",
        "device = torch.device('cuda') if torch.cuda.is_available() else torch.device('cpu')"
      ]
    },
    {
      "cell_type": "code",
      "execution_count": null,
      "metadata": {
        "id": "8yY7Y6MjYFo5"
      },
      "outputs": [],
      "source": [
        "device"
      ]
    },
    {
      "cell_type": "code",
      "execution_count": null,
      "metadata": {
        "id": "P_nXQi4tPCUK"
      },
      "outputs": [],
      "source": [
        "# Adjusting the train/validation/test split\n",
        "train_df, temp_df = train_test_split(train_df, test_size=0.2, random_state=43)\n",
        "val_df, test_df = train_test_split(temp_df, test_size=0.5, random_state=43)\n",
        "\n",
        "# Reset the indices\n",
        "train_df = train_df.reset_index(drop=True)\n",
        "val_df = val_df.reset_index(drop=True)\n",
        "test_df = test_df.reset_index(drop=True)"
      ]
    },
    {
      "cell_type": "code",
      "execution_count": null,
      "metadata": {
        "id": "6gpYbhM5dN6h"
      },
      "outputs": [],
      "source": [
        "# === Compute Class Weights ===\n",
        "from sklearn.utils.class_weight import compute_class_weight\n",
        "import numpy as np\n",
        "import torch\n",
        "\n",
        "# Assume label_dict has been defined and labels are numerical\n",
        "y = train_df['Predicted_Label'].values\n",
        "classes = np.unique(y)\n",
        "\n",
        "# Compute weights\n",
        "weights = compute_class_weight(class_weight='balanced', classes=classes, y=y)\n",
        "class_weights = torch.tensor(weights, dtype=torch.float).to(device)\n",
        "\n",
        "# === Updated Loss Function with Class Weights ===\n",
        "def criterion (outputs, targets):\n",
        "    return torch.nn.CrossEntropyLoss(weight=class_weights)(outputs, targets)"
      ]
    },
    {
      "cell_type": "code",
      "execution_count": null,
      "metadata": {
        "id": "nIH15m32dWxa"
      },
      "outputs": [],
      "source": [
        "print (class_weights)"
      ]
    },
    {
      "cell_type": "code",
      "execution_count": null,
      "metadata": {
        "id": "g4hGv088nyoP"
      },
      "outputs": [],
      "source": [
        "# For training set\n",
        "print(train_df['Predicted_Label'].value_counts())\n",
        "\n",
        "# For validation set\n",
        "print(val_df['Predicted_Label'].value_counts())\n",
        "\n",
        "# For validation set\n",
        "print(test_df['Predicted_Label'].value_counts())"
      ]
    },
    {
      "cell_type": "code",
      "execution_count": null,
      "metadata": {
        "id": "2eIYUWIEPP_a"
      },
      "outputs": [],
      "source": [
        "train_df.shape"
      ]
    },
    {
      "cell_type": "code",
      "execution_count": null,
      "metadata": {
        "id": "XL-QBdXjYfOK"
      },
      "outputs": [],
      "source": [
        "val_df.shape"
      ]
    },
    {
      "cell_type": "code",
      "execution_count": null,
      "metadata": {
        "id": "vfqrEEbVefuc"
      },
      "outputs": [],
      "source": [
        "val_df"
      ]
    },
    {
      "cell_type": "code",
      "execution_count": null,
      "metadata": {
        "id": "OMfVZre2PVRS"
      },
      "outputs": [],
      "source": [
        "# Create the CustomDataset for each set\n",
        "train_dataset = CustomDataset(train_df, tokenizer, MAX_LEN)\n",
        "valid_dataset = CustomDataset(val_df, tokenizer, MAX_LEN)\n",
        "test_dataset = CustomDataset(test_df, tokenizer, MAX_LEN)"
      ]
    },
    {
      "cell_type": "code",
      "execution_count": null,
      "metadata": {
        "id": "hhaZ2dN6PePv"
      },
      "outputs": [],
      "source": [
        "len(train_dataset)"
      ]
    },
    {
      "cell_type": "markdown",
      "metadata": {
        "id": "dHUEw5zmhq3A"
      },
      "source": [
        "# Setting hyperparameters"
      ]
    },
    {
      "cell_type": "code",
      "execution_count": null,
      "metadata": {
        "id": "X99uZ4eYhGp3"
      },
      "outputs": [],
      "source": [
        "TRAIN_BATCH_SIZE = 16\n",
        "VALID_BATCH_SIZE = 16\n",
        "EPOCHS = 5\n",
        "LEARNING_RATE = 5e-5"
      ]
    },
    {
      "cell_type": "code",
      "execution_count": null,
      "metadata": {
        "id": "PPQiQ8v2Pgmr"
      },
      "outputs": [],
      "source": [
        "# Data loaders\n",
        "train_data_loader = torch.utils.data.DataLoader(train_dataset, batch_size=TRAIN_BATCH_SIZE)\n",
        "val_data_loader = torch.utils.data.DataLoader(valid_dataset, batch_size=VALID_BATCH_SIZE)"
      ]
    },
    {
      "cell_type": "code",
      "execution_count": null,
      "metadata": {
        "id": "AKdUNrZSPu6a"
      },
      "outputs": [],
      "source": [
        "# Checking for available device\n",
        "device = torch.device('cuda') if torch.cuda.is_available() else torch.device('cpu')"
      ]
    },
    {
      "cell_type": "code",
      "execution_count": null,
      "metadata": {
        "id": "bOiuV6aCP8Kt"
      },
      "outputs": [],
      "source": [
        "device"
      ]
    },
    {
      "cell_type": "markdown",
      "metadata": {
        "id": "rQzjEWgTiAmn"
      },
      "source": [
        "# Additional functions for loading and saving checkpoints"
      ]
    },
    {
      "cell_type": "code",
      "execution_count": null,
      "metadata": {
        "id": "fK-rRna-P9cd"
      },
      "outputs": [],
      "source": [
        "def load_ckp(checkpoint_fpath, model, optimizer):\n",
        "    \"\"\"\n",
        "    checkpoint_path: path to save checkpoint\n",
        "    model: model that we want to load checkpoint parameters into\n",
        "    optimizer: optimizer we defined in previous training\n",
        "    \"\"\"\n",
        "    # load check point\n",
        "    checkpoint = torch.load(checkpoint_fpath)\n",
        "    # initialize state_dict from checkpoint to model\n",
        "    model.load_state_dict(checkpoint['state_dict'])\n",
        "    # initialize optimizer from checkpoint to optimizer\n",
        "    optimizer.load_state_dict(checkpoint['optimizer'])\n",
        "    # initialize valid_loss_min from checkpoint to valid_loss_min\n",
        "    valid_loss_min = checkpoint['valid_loss_min']\n",
        "    # return model, optimizer, epoch value, min validation loss\n",
        "    return model, optimizer, checkpoint['epoch'], valid_loss_min\n",
        "\n",
        "def save_ckp(state, is_best, checkpoint_path, best_model_path):\n",
        "    \"\"\"\n",
        "    state: checkpoint we want to save\n",
        "    is_best: is this the best checkpoint; min validation loss\n",
        "    checkpoint_path: path to save checkpoint\n",
        "    best_model_path: path to save best model\n",
        "    \"\"\"\n",
        "    f_path = checkpoint_path\n",
        "    # save checkpoint data to the path given, checkpoint_path\n",
        "    torch.save(state, f_path)\n",
        "    # if it is a best model, min validation loss\n",
        "    if is_best:\n",
        "        best_fpath = best_model_path\n",
        "        # copy that checkpoint file to best path given, best_model_path\n",
        "        shutil.copyfile(f_path, best_fpath)"
      ]
    },
    {
      "cell_type": "markdown",
      "metadata": {
        "id": "hoc8eLxMQEYL"
      },
      "source": [
        "# Training the Model"
      ]
    },
    {
      "cell_type": "markdown",
      "metadata": {
        "id": "sBOfVICFjhOo"
      },
      "source": [
        "Defining and Initializing the BERT Classification Model"
      ]
    },
    {
      "cell_type": "code",
      "execution_count": null,
      "metadata": {
        "id": "KVX-Zl9wP_K-"
      },
      "outputs": [],
      "source": [
        "# Define the model\n",
        "class BERTClass(torch.nn.Module):\n",
        "    def __init__(self):\n",
        "        super(BERTClass, self).__init__()\n",
        "        self.bert_model = BertModel.from_pretrained('bert-base-uncased')\n",
        "        self.dropout = torch.nn.Dropout(0.3)\n",
        "        self.linear = torch.nn.Linear(768, len(label_dict))  # Adjust the final layer to match the number of classes\n",
        "\n",
        "    def forward(self, input_ids, attn_mask, token_type_ids):\n",
        "        output = self.bert_model(\n",
        "            input_ids,\n",
        "            attention_mask=attn_mask,\n",
        "            token_type_ids=token_type_ids\n",
        "        )\n",
        "        output_dropout = self.dropout(output.pooler_output)\n",
        "        output = self.linear(output_dropout)\n",
        "        return output"
      ]
    },
    {
      "cell_type": "code",
      "execution_count": null,
      "metadata": {
        "id": "34X0zeLsgNpy"
      },
      "outputs": [],
      "source": [
        "# Initialize the model\n",
        "model = BERTClass()\n",
        "model.to(device)"
      ]
    },
    {
      "cell_type": "markdown",
      "metadata": {
        "id": "Faa0Pam47V9T"
      },
      "source": [
        "Setting Up the Loss Function and Optimizer"
      ]
    },
    {
      "cell_type": "code",
      "execution_count": null,
      "metadata": {
        "id": "OD5bZyhYQFpA"
      },
      "outputs": [],
      "source": [
        "# Define loss function (CrossEntropyLoss for multi-class classification)\n",
        "def loss_fn(outputs, targets):\n",
        "    return torch.nn.CrossEntropyLoss()(outputs, targets)\n",
        "\n",
        "optimizer = torch.optim.AdamW(params =  model.parameters(), lr=LEARNING_RATE)"
      ]
    },
    {
      "cell_type": "markdown",
      "metadata": {
        "id": "2yBE580aQLym"
      },
      "source": [
        "Initialization of Validation Target and Output Lists"
      ]
    },
    {
      "cell_type": "code",
      "execution_count": null,
      "metadata": {
        "id": "xMrDL17YldaU"
      },
      "outputs": [],
      "source": [
        "val_targets=[]\n",
        "val_outputs=[]"
      ]
    },
    {
      "cell_type": "markdown",
      "metadata": {
        "id": "oSqb4o657dN2"
      },
      "source": [
        "Training and Validation Loop with Early Stopping"
      ]
    },
    {
      "cell_type": "code",
      "execution_count": null,
      "metadata": {
        "id": "_48OeKUvQVq2"
      },
      "outputs": [],
      "source": [
        "def train_model(n_epochs, training_loader, validation_loader, model, optimizer, checkpoint_path, best_model_path, patience):\n",
        "  valid_loss_min = np.inf\n",
        "  no_improve = 0\n",
        "\n",
        "  for epoch in range(1, n_epochs+1):\n",
        "    train_loss = 0.0\n",
        "    valid_loss = 0.0\n",
        "    model.train()\n",
        "    print('############# Epoch {}: Training Start #############'.format(epoch))\n",
        "\n",
        "    for batch_idx, data in enumerate(training_loader):\n",
        "        ids = data['input_ids'].to(device, dtype = torch.long)\n",
        "        mask = data['attention_mask'].to(device, dtype = torch.long)\n",
        "        token_type_ids = data['token_type_ids'].to(device, dtype = torch.long)\n",
        "        targets = data['targets'].to(device, dtype = torch.long)\n",
        "\n",
        "        outputs = model(ids, mask, token_type_ids)\n",
        "\n",
        "        optimizer.zero_grad()\n",
        "        loss = criterion(outputs, targets)\n",
        "\n",
        "        loss.backward()\n",
        "        optimizer.step()\n",
        "\n",
        "        train_loss = train_loss + ((1 / (batch_idx + 1)) * (loss.item() - train_loss))\n",
        "\n",
        "    print('############# Epoch {}: Training End #############'.format(epoch))\n",
        "\n",
        "    print('############# Epoch {}: Validation Start #############'.format(epoch))\n",
        "    model.eval()\n",
        "\n",
        "    with torch.no_grad():\n",
        "      for batch_idx, data in enumerate(validation_loader, 0):\n",
        "            ids = data['input_ids'].to(device, dtype = torch.long)\n",
        "            mask = data['attention_mask'].to(device, dtype = torch.long)\n",
        "            token_type_ids = data['token_type_ids'].to(device, dtype = torch.long)\n",
        "            targets = data['targets'].to(device, dtype = torch.long)\n",
        "\n",
        "            outputs = model(ids, mask, token_type_ids)\n",
        "            loss = loss_fn(outputs, targets)\n",
        "\n",
        "            valid_loss = valid_loss + ((1 / (batch_idx + 1)) * (loss.item() - valid_loss))\n",
        "\n",
        "            val_targets.extend(targets.cpu().detach().numpy().tolist())\n",
        "            val_outputs.extend(torch.sigmoid(outputs).cpu().detach().numpy().tolist())\n",
        "\n",
        "    print('############# Epoch {}: Validation End #############'.format(epoch))\n",
        "\n",
        "    train_loss = train_loss/len(training_loader)\n",
        "    valid_loss = valid_loss/len(validation_loader)\n",
        "\n",
        "    print('Epoch: {} \\tAvgerage Training Loss: {:.6f} \\tAverage Validation Loss: {:.6f}'.format(\n",
        "    epoch, train_loss, valid_loss))\n",
        "\n",
        "    checkpoint = {\n",
        "      'epoch': epoch + 1,\n",
        "      'valid_loss_min': valid_loss,\n",
        "      'state_dict': model.state_dict(),\n",
        "      'optimizer': optimizer.state_dict()\n",
        "    }\n",
        "\n",
        "    if valid_loss <= valid_loss_min:\n",
        "        print('Validation loss decreased ({:.6f} --> {:.6f}).  Saving model ...'.format(valid_loss_min, valid_loss))\n",
        "        torch.save(checkpoint, best_model_path)\n",
        "        valid_loss_min = valid_loss\n",
        "        no_improve = 0\n",
        "    else:\n",
        "        no_improve += 1\n",
        "        if no_improve >= patience:\n",
        "          print(\"Early stopping due to no improvement in validation loss\")\n",
        "          break\n",
        "\n",
        "  return model"
      ]
    },
    {
      "cell_type": "code",
      "execution_count": null,
      "metadata": {
        "id": "9kfPzl-7QbMV"
      },
      "outputs": [],
      "source": [
        "import os\n",
        "\n",
        "# Ensure directories exist\n",
        "os.makedirs(\"/content/gdrive/MyDrive/ckpt_path\", exist_ok=True)\n",
        "os.makedirs(\"/content/gdrive/MyDrive/Best_Model\", exist_ok=True)\n",
        "\n",
        "# Define paths for checkpoint and best model\n",
        "ckpt_path = \"/content/gdrive/MyDrive/Best_Model/best_model(16-5e-5-stage3-BERT-class-weightsv3).pth\"\n",
        "best_model_path = \"/content/gdrive/MyDrive/ckpt_path/ckpth(16-5e-5-stage3-BERT-class-weightsv3).pth\"\n",
        "\n"
      ]
    },
    {
      "cell_type": "markdown",
      "metadata": {
        "id": "KXx9N3L2ic4E"
      },
      "source": [
        "# Start Train"
      ]
    },
    {
      "cell_type": "code",
      "execution_count": null,
      "metadata": {
        "colab": {
          "background_save": true
        },
        "id": "dpt2jMurQdgX"
      },
      "outputs": [],
      "source": [
        "trained_model = train_model(EPOCHS, train_data_loader, val_data_loader, model, optimizer, ckpt_path, best_model_path, patience = 2)"
      ]
    },
    {
      "cell_type": "code",
      "execution_count": null,
      "metadata": {
        "id": "7-Rz2GtX4lPK"
      },
      "outputs": [],
      "source": [
        "# Load the saved checkpoint\n",
        "model, optimizer, start_epoch, valid_loss_min = load_ckp(best_model_path, model, optimizer)\n",
        "\n",
        "print(f'The validation loss of the best saved model is: {valid_loss_min}')"
      ]
    },
    {
      "cell_type": "markdown",
      "metadata": {
        "id": "S_DZdWyDcLeO"
      },
      "source": [
        "# Test"
      ]
    },
    {
      "cell_type": "code",
      "execution_count": null,
      "metadata": {
        "id": "4p5-lR4pct8P"
      },
      "outputs": [],
      "source": [
        "from sklearn.metrics import classification_report, confusion_matrix"
      ]
    },
    {
      "cell_type": "code",
      "execution_count": null,
      "metadata": {
        "id": "TxYxyk53uH7m"
      },
      "outputs": [],
      "source": [
        "# switch model out of training mode\n",
        "model.eval()"
      ]
    },
    {
      "cell_type": "code",
      "execution_count": null,
      "metadata": {
        "id": "ZMrC6O6ZuKmt"
      },
      "outputs": [],
      "source": [
        "predictions = []\n",
        "true_labels = []"
      ]
    },
    {
      "cell_type": "code",
      "execution_count": null,
      "metadata": {
        "id": "9DomNEdWuhPs"
      },
      "outputs": [],
      "source": [
        "# Data loaders\n",
        "test_data_loader = torch.utils.data.DataLoader(test_dataset, batch_size=VALID_BATCH_SIZE)"
      ]
    },
    {
      "cell_type": "code",
      "execution_count": null,
      "metadata": {
        "id": "WLQNPFrruOhv"
      },
      "outputs": [],
      "source": [
        "# iterate over test data\n",
        "for data in test_data_loader:\n",
        "    # move tensors to GPU if available\n",
        "    ids = data['input_ids'].to(device, dtype = torch.long)\n",
        "    mask = data['attention_mask'].to(device, dtype = torch.long)\n",
        "    token_type_ids = data['token_type_ids'].to(device, dtype = torch.long)\n",
        "    targets = data['targets'].to(device, dtype = torch.long)\n",
        "\n",
        "    # compute predicted outputs\n",
        "    outputs = model(ids, mask, token_type_ids)\n",
        "\n",
        "    # convert output probabilities to predicted class\n",
        "    _, pred = torch.max(outputs, dim=1)\n",
        "\n",
        "    predictions.extend(pred.cpu().detach().numpy().tolist())\n",
        "    true_labels.extend(targets.cpu().detach().numpy().tolist())"
      ]
    },
    {
      "cell_type": "code",
      "execution_count": null,
      "metadata": {
        "id": "FHGYBlOEuQhM"
      },
      "outputs": [],
      "source": [
        "# calculate and print classification report\n",
        "print(classification_report(true_labels, predictions, target_names=label_dict.keys()))"
      ]
    },
    {
      "cell_type": "code",
      "execution_count": null,
      "metadata": {
        "id": "zyCnpD6buRob"
      },
      "outputs": [],
      "source": [
        "# print confusion matrix\n",
        "print(confusion_matrix(true_labels, predictions))"
      ]
    },
    {
      "cell_type": "markdown",
      "metadata": {
        "id": "jPqXzMcpF3EM"
      },
      "source": [
        "# Predict New Text Input"
      ]
    },
    {
      "cell_type": "code",
      "execution_count": null,
      "metadata": {
        "colab": {
          "background_save": true
        },
        "id": "9gFSddv2F7Z8"
      },
      "outputs": [],
      "source": [
        "def predict_target(model, tokenizer, text, max_len=128):\n",
        "    model.eval()\n",
        "\n",
        "    # Preprocess the text\n",
        "    inputs = tokenizer.encode_plus(\n",
        "        text,\n",
        "        None,\n",
        "        add_special_tokens=True,\n",
        "        max_length=max_len,\n",
        "        padding='max_length',\n",
        "        return_token_type_ids=True,\n",
        "        truncation=True,\n",
        "        return_attention_mask=True,\n",
        "        return_tensors='pt'\n",
        "    )\n",
        "\n",
        "    ids = inputs['input_ids'].to(device)\n",
        "    mask = inputs['attention_mask'].to(device)\n",
        "    token_type_ids = inputs[\"token_type_ids\"].to(device)\n",
        "\n",
        "    outputs = model(ids, mask, token_type_ids)\n",
        "    outputs = torch.softmax(outputs, dim=1).detach().cpu().numpy()\n",
        "\n",
        "    # Get the label with highest probability\n",
        "    predicted_label_idx = np.argmax(outputs, axis=1)\n",
        "\n",
        "    # Reverse the label dictionary to get the name of the class\n",
        "    reverse_label_dict = {v: k for k, v in label_dict.items()}\n",
        "    predicted_label = reverse_label_dict[predicted_label_idx[0]]\n",
        "\n",
        "    # Get probabilities for each class\n",
        "    probabilities = outputs[0]\n",
        "\n",
        "    return predicted_label, probabilities\n"
      ]
    },
    {
      "cell_type": "code",
      "execution_count": null,
      "metadata": {
        "colab": {
          "background_save": true
        },
        "id": "BheMhMsOF8uy"
      },
      "outputs": [],
      "source": [
        "text = \"\"\n",
        "predicted_label, probabilities = predict_target(model, tokenizer, text)\n",
        "print(f\"The predicted label for the text is: {predicted_label}\")\n",
        "print(f\"The probabilities for each class are: {probabilities}\")"
      ]
    },
    {
      "cell_type": "code",
      "execution_count": null,
      "metadata": {
        "colab": {
          "background_save": true
        },
        "id": "eM75GLU2GfEt"
      },
      "outputs": [],
      "source": [
        "text = \"\"\n",
        "predicted_label, probabilities = predict_target(model, tokenizer, text)\n",
        "print(f\"The predicted label for the text is: {predicted_label}\")\n",
        "print(f\"The probabilities for each class are: {probabilities}\")"
      ]
    },
    {
      "cell_type": "code",
      "execution_count": null,
      "metadata": {
        "id": "H3abrRfOnk5v"
      },
      "outputs": [],
      "source": [
        "text = \"\"\n",
        "predicted_label, probabilities = predict_target(model, tokenizer, text)\n",
        "print(f\"The predicted label for the text is: {predicted_label}\")\n",
        "print(f\"The probabilities for each class are: {probabilities}\")"
      ]
    }
  ],
  "metadata": {
    "accelerator": "GPU",
    "colab": {
      "machine_shape": "hm",
      "provenance": []
    },
    "gpuClass": "standard",
    "kernelspec": {
      "display_name": "Python 3",
      "name": "python3"
    },
    "language_info": {
      "name": "python"
    }
  },
  "nbformat": 4,
  "nbformat_minor": 0
}